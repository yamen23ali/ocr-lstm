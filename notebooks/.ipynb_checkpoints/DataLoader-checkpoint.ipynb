{
 "cells": [
  {
   "cell_type": "code",
   "execution_count": 2,
   "metadata": {},
   "outputs": [
    {
     "ename": "ImportError",
     "evalue": "attempted relative import with no known parent package",
     "output_type": "error",
     "traceback": [
      "\u001b[0;31m---------------------------------------------------------------------------\u001b[0m",
      "\u001b[0;31mImportError\u001b[0m                               Traceback (most recent call last)",
      "\u001b[0;32m<ipython-input-2-cb82cf15ba37>\u001b[0m in \u001b[0;36m<module>\u001b[0;34m\u001b[0m\n\u001b[0;32m----> 1\u001b[0;31m \u001b[0;32mfrom\u001b[0m \u001b[0;34m.\u001b[0m\u001b[0;34m.\u001b[0m\u001b[0msrc\u001b[0m\u001b[0;34m.\u001b[0m\u001b[0mocr_data_loader\u001b[0m \u001b[0;32mimport\u001b[0m \u001b[0mload_data\u001b[0m\u001b[0;34m\u001b[0m\u001b[0;34m\u001b[0m\u001b[0m\n\u001b[0m\u001b[1;32m      2\u001b[0m \u001b[0;32mfrom\u001b[0m \u001b[0mtorchvision\u001b[0m \u001b[0;32mimport\u001b[0m \u001b[0mtransforms\u001b[0m\u001b[0;34m\u001b[0m\u001b[0;34m\u001b[0m\u001b[0m\n",
      "\u001b[0;31mImportError\u001b[0m: attempted relative import with no known parent package"
     ]
    }
   ],
   "source": [
    "from ..src.ocr_data_loader import load_data\n",
    "from torchvision import transforms"
   ]
  },
  {
   "cell_type": "code",
   "execution_count": 5,
   "metadata": {},
   "outputs": [
    {
     "name": "stdout",
     "output_type": "stream",
     "text": [
      "tensor([15, 23, 16, 29,  5, 40, 38, 39,  3, 31])\n",
      "tensor([46,  4, 35,  8, 33, 41, 28, 36, 17,  0])\n",
      "tensor([32, 45, 13, 19])\n",
      "======================\n",
      "tensor([11, 27, 34,  2, 14, 44, 43,  1, 18,  7])\n",
      "tensor([25, 21, 10, 24, 30, 26, 20, 42, 47, 12])\n",
      "tensor([ 6,  9, 22, 48, 37])\n"
     ]
    }
   ],
   "source": [
    "# These are for test only\n",
    "transformations = [transforms.Resize((70,700)), transforms.ToTensor()]\n",
    "\n",
    "train_data, test_data = load_data(dataset = 'RefCorpus-ENHG-Incunabula/1476-Historij-Wierstaat',\n",
    "                                              transformations=transformations,\n",
    "                                              train_test_split=.5)\n",
    "  \n",
    "for sample in enumerate(train_data):\n",
    "    print(sample[1]['idx'])  \n",
    "\n",
    "print(\"======================\")\n",
    "\n",
    "for sample in enumerate(test_data):\n",
    "    print(sample[1]['idx'])  \n"
   ]
  },
  {
   "cell_type": "code",
   "execution_count": null,
   "metadata": {},
   "outputs": [],
   "source": []
  }
 ],
 "metadata": {
  "kernelspec": {
   "display_name": "Python 3",
   "language": "python",
   "name": "python3"
  },
  "language_info": {
   "codemirror_mode": {
    "name": "ipython",
    "version": 3
   },
   "file_extension": ".py",
   "mimetype": "text/x-python",
   "name": "python",
   "nbconvert_exporter": "python",
   "pygments_lexer": "ipython3",
   "version": "3.7.5"
  }
 },
 "nbformat": 4,
 "nbformat_minor": 2
}
