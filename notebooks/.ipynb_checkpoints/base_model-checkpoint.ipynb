{
 "cells": [
  {
   "cell_type": "code",
   "execution_count": 3,
   "metadata": {},
   "outputs": [],
   "source": [
    "import sys\n",
    "sys.path.append('../src')\n",
    "\n",
    "from ocr_data_loader import load_data\n",
    "from ocr_utils import *\n",
    "from ocr_model import OCRModel\n",
    "from PIL import Image\n",
    "import pytesseract\n",
    "from Levenshtein import distance"
   ]
  },
  {
   "cell_type": "code",
   "execution_count": 18,
   "metadata": {},
   "outputs": [
    {
     "name": "stdout",
     "output_type": "stream",
     "text": [
      "Subcorpora name:  EarlyModernLatin     Samples Num: 612    Mean Error:  0.1711638718466496\n"
     ]
    }
   ],
   "source": [
    "# Download Language data for Legacy https://github.com/tesseract-ocr/tessdata\n",
    "# Donlwoad Language data for New https://github.com/tesseract-ocr/tessdata_best\n",
    "\n",
    "BASE_DIR ='../../GT4HistOCR/corpus'\n",
    "SAMPLES_PER_BOOK = 50\n",
    "legacy_config = r'--oem 0 --tessdata-dir \"/usr/local/Cellar/tesseract/4.1.0/share/tessdata/\"'\n",
    "lstm_config = r'--oem 1 --tessdata-dir \"/usr/local/Cellar/tesseract/4.1.0/share/tessdata/\"'\n",
    "lang = 'lat'\n",
    "\n",
    "def evaluate(base_dir, samples_per_book, config, lang):\n",
    "    \n",
    "    subcorpora_errors = {}\n",
    "\n",
    "    for subcorpora in os.listdir(base_dir):\n",
    "        \n",
    "        books_path = os.path.join(base_dir, subcorpora)\n",
    "        \n",
    "        if not os.path.isdir(books_path): continue\n",
    "        \n",
    "        subcorpora_errors[subcorpora] = []\n",
    "                \n",
    "        for book in os.listdir(books_path):\n",
    "                \n",
    "            full_path = os.path.join(books_path, book)\n",
    "            text_files = glob.glob(full_path + \"/*.txt\")\n",
    "            \n",
    "            file_num = 0\n",
    "                \n",
    "            for text_file in text_files:\n",
    "                try:\n",
    "                    image_file = text_file.replace(\"gt.txt\", \"nrm.png\")\n",
    "                    \n",
    "                    if not os.path.exists(image_file):\n",
    "                        image_file = text_file.replace(\"gt.txt\", \"bin.png\")\n",
    "                        \n",
    "                    with open(text_file,encoding = 'utf-8') as f:\n",
    "                        text = f.read().rstrip()\n",
    "                    \n",
    "                    predicted_text = pytesseract.image_to_string(Image.open(image_file),\n",
    "                                                                 lang = lang,\n",
    "                                                                 config=config)\n",
    "\n",
    "                    sample_error = distance(text, predicted_text) / len(text)\n",
    "\n",
    "                    subcorpora_errors[subcorpora].append( sample_error )\n",
    "                    \n",
    "                    file_num+=1\n",
    "                    \n",
    "                    if file_num > samples_per_book: break\n",
    "                except Exception as ex:\n",
    "                    print(ex)\n",
    "\n",
    "    return subcorpora_errors\n",
    "\n",
    "errors = evaluate(BASE_DIR, 50, lstm_config, lang)\n",
    "\n",
    "for key, value in errors.items():\n",
    "    s = \"Subcorpora name:  {}     Samples Num: {}    Mean Error:  {}\"\n",
    "    print(s.format(key, len(value), np.array(value).mean()))"
   ]
  }
 ],
 "metadata": {
  "kernelspec": {
   "display_name": "Python 3",
   "language": "python",
   "name": "python3"
  },
  "language_info": {
   "codemirror_mode": {
    "name": "ipython",
    "version": 3
   },
   "file_extension": ".py",
   "mimetype": "text/x-python",
   "name": "python",
   "nbconvert_exporter": "python",
   "pygments_lexer": "ipython3",
   "version": "3.7.5"
  }
 },
 "nbformat": 4,
 "nbformat_minor": 2
}
